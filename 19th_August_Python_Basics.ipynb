{
 "cells": [
  {
   "cell_type": "markdown",
   "id": "ecd73c41-68b4-4e97-af69-87d10d2e6523",
   "metadata": {},
   "source": [
    "Python Basics Variable Questions :-"
   ]
  },
  {
   "cell_type": "markdown",
   "id": "eedfaf80-adbf-4d04-b4d5-c40ef29276f5",
   "metadata": {},
   "source": [
    "Q1. Declare two variables, 'x' and 'y', and assing them integer values. swap the values of these variables without using any temporary variable."
   ]
  },
  {
   "cell_type": "code",
   "execution_count": 1,
   "id": "15302499-31b7-4b9a-bd2a-50ebbe678356",
   "metadata": {},
   "outputs": [],
   "source": [
    "# Declare variables\n",
    "x = 5\n",
    "y = 10\n",
    "\n",
    "# create a temporary variable and swap the values \n",
    "temp = x \n",
    "x = y \n",
    "y = temp \n",
    "\n"
   ]
  },
  {
   "cell_type": "code",
   "execution_count": 2,
   "id": "0b6ab515-b409-4b67-9133-ab8000864cd2",
   "metadata": {},
   "outputs": [
    {
     "name": "stdout",
     "output_type": "stream",
     "text": [
      "the values of x after swapping: 10\n"
     ]
    }
   ],
   "source": [
    "print(\"the values of x after swapping: {}\" . format(x))\n"
   ]
  },
  {
   "cell_type": "code",
   "execution_count": 3,
   "id": "89105f92-8f60-4a5b-8344-33300ceae9f8",
   "metadata": {},
   "outputs": [
    {
     "name": "stdout",
     "output_type": "stream",
     "text": [
      "the values of y after swapping: 5\n"
     ]
    }
   ],
   "source": [
    "print(\"the values of y after swapping: {}\" . format(y))"
   ]
  },
  {
   "cell_type": "markdown",
   "id": "42c56cf0-ceb4-4863-846f-ff1f1b5aefea",
   "metadata": {},
   "source": [
    "Q2. Create a program that calculates the area of a rectangle. take the length and width as input from the user and store them in variables. Calculate and dispaly the area."
   ]
  },
  {
   "cell_type": "code",
   "execution_count": 4,
   "id": "463435d1-6597-42a2-ad5b-1253ed19f897",
   "metadata": {},
   "outputs": [
    {
     "name": "stdin",
     "output_type": "stream",
     "text": [
      "Enter the length of a rectangle:  8\n",
      "Enter the width of a rectangle:  6\n"
     ]
    },
    {
     "name": "stdout",
     "output_type": "stream",
     "text": [
      "Area of a rectangle is: 48.00\n"
     ]
    }
   ],
   "source": [
    "#firstly, we will take input from the user for length and width using the input function.\n",
    "l = float(input(\"Enter the length of a rectangle: \"))\n",
    "b = float(input(\"Enter the width of a rectangle: \"))\n",
    "#now we will calculate the area of a rectangle by using the formula Area = l * b.\n",
    "Area = l*b\n",
    "#At last , print the area of a rectangle to see the output.\n",
    "print(\"Area of a rectangle is: %.2f\" %Area)"
   ]
  },
  {
   "cell_type": "markdown",
   "id": "162dd1c1-1d00-4418-9df4-91e171cd47e6",
   "metadata": {},
   "source": [
    "Q3. Write a python program that converts temperatures from celsius to fahrenhite. take the temperature in celsius as input, store it in a variable, convert it to fahrenheit, and display the result."
   ]
  },
  {
   "cell_type": "code",
   "execution_count": 5,
   "id": "3442b591-0e9f-4a0e-bda2-90d73c12d98b",
   "metadata": {},
   "outputs": [
    {
     "name": "stdin",
     "output_type": "stream",
     "text": [
      "Temperature value in degree celsius:  80\n"
     ]
    },
    {
     "name": "stdout",
     "output_type": "stream",
     "text": [
      "The 80.00 degree Celsius is equal to: 176.00 Fahrenheit\n"
     ]
    }
   ],
   "source": [
    "#For converting the temperature to degree fahrenheit by using the above \n",
    "Celsius = float(input(\"Temperature value in degree celsius: \"))\n",
    "# given formula\n",
    "Fahrenheit = ( Celsius * 9/5) + 32\n",
    "#print the result\n",
    "print(\"The %.2f degree Celsius is equal to: %.2f Fahrenheit\" % (Celsius , Fahrenheit))"
   ]
  },
  {
   "cell_type": "code",
   "execution_count": null,
   "id": "a8a0285a-3f7b-433f-9526-4ee7c205d280",
   "metadata": {},
   "outputs": [],
   "source": []
  },
  {
   "cell_type": "code",
   "execution_count": null,
   "id": "3087f71e-f0ab-43ac-8a8f-a9c4c3f95920",
   "metadata": {},
   "outputs": [],
   "source": []
  },
  {
   "cell_type": "markdown",
   "id": "0967e2f6-498b-4cb9-9ce8-39863b27b5d3",
   "metadata": {},
   "source": [
    "String Based Questions :-"
   ]
  },
  {
   "cell_type": "markdown",
   "id": "2e210aff-a521-4c91-a217-6959a3906c90",
   "metadata": {},
   "source": [
    "Q1. write a python program that takes a string as input and prints the length of the string."
   ]
  },
  {
   "cell_type": "code",
   "execution_count": 6,
   "id": "c767cf26-b0ac-4551-a144-ecee268ef830",
   "metadata": {},
   "outputs": [
    {
     "name": "stdout",
     "output_type": "stream",
     "text": [
      "8\n"
     ]
    }
   ],
   "source": [
    "#using the built-in function len. \n",
    "str = \"pwskills\"\n",
    "#printing the result\n",
    "print(len(str))"
   ]
  },
  {
   "cell_type": "markdown",
   "id": "f96e14e4-75c0-4cc7-ad64-968de4434537",
   "metadata": {},
   "source": [
    "Q2. Create a program that takes a sentence from the user and counts the number of vowels (a,e,i,o,u) in the string."
   ]
  },
  {
   "cell_type": "code",
   "execution_count": 7,
   "id": "7edb53f1-c502-4f75-a53d-f9c7e5cbfcd9",
   "metadata": {},
   "outputs": [
    {
     "name": "stdin",
     "output_type": "stream",
     "text": [
      "Enter the character:  f\n"
     ]
    },
    {
     "name": "stdout",
     "output_type": "stream",
     "text": [
      "consonant\n"
     ]
    }
   ],
   "source": [
    "#Get the input from the user as a character\n",
    "l = input(\"Enter the character: \")\n",
    "#using built-in function like (lower(),upper()),\n",
    "if l.lower() in ('a','e','i','o','u'):\n",
    "    print(\"Vowel\")\n",
    "elif l.upper() in ('A','E','I','O','U'):\n",
    "    print(\"vowel\")\n",
    "#If the character is a vowel, it should  be printed. Otherwise, print consonant    \n",
    "else:\n",
    "    print(\"consonant\")\n"
   ]
  },
  {
   "cell_type": "markdown",
   "id": "f2216356-b729-434a-ad33-4dc8aa2a0615",
   "metadata": {},
   "source": [
    "Q3. Given a string, revers the order of characters using string slicing and print the reversed string."
   ]
  },
  {
   "cell_type": "code",
   "execution_count": 8,
   "id": "0ea0c93e-f93e-489a-85c2-1be703187d5a",
   "metadata": {},
   "outputs": [
    {
     "name": "stdout",
     "output_type": "stream",
     "text": [
      "sllikswp\n"
     ]
    }
   ],
   "source": [
    "#Reverse the string \"pwskills\"\n",
    "#There is no built-in function to reserve a string in python\n",
    "txt = \"pwskills\"[::-1]\n",
    "#The fastes way is to use a slice that steps backwards, -1.\n",
    "print(txt)"
   ]
  },
  {
   "cell_type": "markdown",
   "id": "09230d37-23c2-486b-8ebf-12d7c14bbf81",
   "metadata": {},
   "source": [
    "Q4. Write a program that takes a string as input and removes all the spaces from it. Print the modified string without spaces."
   ]
  },
  {
   "cell_type": "code",
   "execution_count": 9,
   "id": "26f592df-deb4-4cfc-a53e-91143bda6602",
   "metadata": {},
   "outputs": [
    {
     "name": "stdout",
     "output_type": "stream",
     "text": [
      "Yes\n"
     ]
    }
   ],
   "source": [
    "#function which return reverse of a string\n",
    "def ispalindrome(x):\n",
    "    return x == x [::-1]\n",
    "# driver code \n",
    "x = \"level\"\n",
    "ans = ispalindrome(x)\n",
    "if ans:\n",
    "    print(\"Yes\")\n",
    "else : \n",
    "    print(\"No\")"
   ]
  },
  {
   "cell_type": "markdown",
   "id": "d6631947-f631-4eff-9061-5f60eb9e1a1c",
   "metadata": {},
   "source": [
    "Q5. Create a program that takes a string as input and removes all the spaces from it. Print the modified string without spaces."
   ]
  },
  {
   "cell_type": "code",
   "execution_count": 10,
   "id": "ae01c49d-371b-4685-b2e5-ae49df500f2e",
   "metadata": {},
   "outputs": [
    {
     "name": "stdout",
     "output_type": "stream",
     "text": [
      "string after removing all the white spaces: pwskills\n"
     ]
    }
   ],
   "source": [
    "str = \"p w  skills\"\n",
    "#using in-built function in python\n",
    "str = str.replace(\" \",\"\")\n",
    "#here, we are replacing space character with blank\n",
    "print(\"string after removing all the white spaces: \" + str)"
   ]
  },
  {
   "cell_type": "code",
   "execution_count": null,
   "id": "ce12460c-9c4a-4e06-bcd6-c606bcbfb326",
   "metadata": {},
   "outputs": [],
   "source": []
  }
 ],
 "metadata": {
  "kernelspec": {
   "display_name": "Python 3 (ipykernel)",
   "language": "python",
   "name": "python3"
  },
  "language_info": {
   "codemirror_mode": {
    "name": "ipython",
    "version": 3
   },
   "file_extension": ".py",
   "mimetype": "text/x-python",
   "name": "python",
   "nbconvert_exporter": "python",
   "pygments_lexer": "ipython3",
   "version": "3.10.8"
  }
 },
 "nbformat": 4,
 "nbformat_minor": 5
}
